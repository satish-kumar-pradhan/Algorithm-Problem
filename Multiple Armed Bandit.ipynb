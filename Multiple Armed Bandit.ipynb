{
 "cells": [
  {
   "cell_type": "markdown",
   "metadata": {},
   "source": [
    "\n",
    "## Multiple Armed Bandit.\n",
    "\n",
    "### 3 Restaurants in Aachen with each with value as follows on expenditure of 5. Total no of tries is 300:-\n",
    "\n",
    "a. mean 10 and std 2.5\n",
    "\n",
    "b. mean 8 and std 4\n",
    "\n",
    "c. mean 5 and std 2.5"
   ]
  },
  {
   "cell_type": "code",
   "execution_count": 142,
   "metadata": {},
   "outputs": [],
   "source": [
    "import numpy as np\n",
    "import pandas as pd\n",
    "import random\n",
    "from numba import jit"
   ]
  },
  {
   "cell_type": "code",
   "execution_count": 2,
   "metadata": {},
   "outputs": [],
   "source": [
    "rest=['a','b','c']\n",
    "mean=[10,8,5]\n",
    "std=[2.5,4,2.5]"
   ]
  },
  {
   "cell_type": "code",
   "execution_count": 3,
   "metadata": {},
   "outputs": [],
   "source": [
    "num_iter=300"
   ]
  },
  {
   "cell_type": "code",
   "execution_count": 4,
   "metadata": {},
   "outputs": [],
   "source": [
    "Max_regret=num_iter*max(mean)\n",
    "Max_avg_regret=Max_regret/num_iter"
   ]
  },
  {
   "cell_type": "code",
   "execution_count": 5,
   "metadata": {},
   "outputs": [
    {
     "data": {
      "text/plain": [
       "3000"
      ]
     },
     "execution_count": 5,
     "metadata": {},
     "output_type": "execute_result"
    }
   ],
   "source": [
    "Max_regret"
   ]
  },
  {
   "cell_type": "code",
   "execution_count": 6,
   "metadata": {},
   "outputs": [
    {
     "data": {
      "text/plain": [
       "10.0"
      ]
     },
     "execution_count": 6,
     "metadata": {},
     "output_type": "execute_result"
    }
   ],
   "source": [
    "Max_avg_regret"
   ]
  },
  {
   "cell_type": "markdown",
   "metadata": {},
   "source": [
    "## NAIVE METHOD"
   ]
  },
  {
   "cell_type": "code",
   "execution_count": null,
   "metadata": {},
   "outputs": [],
   "source": []
  },
  {
   "cell_type": "code",
   "execution_count": 7,
   "metadata": {},
   "outputs": [],
   "source": [
    "\n",
    "def Naive_Method(items,mu,sigma,chances):\n",
    "    total_naive=0.0\n",
    "    for i in range(chances):\n",
    "        naive_pick=np.random.randint(0,items)\n",
    "        total_naive=total_naive+np.random.normal(mu[naive_pick],sigma[naive_pick])\n",
    "    \n",
    "    return(total_naive)"
   ]
  },
  {
   "cell_type": "code",
   "execution_count": 8,
   "metadata": {},
   "outputs": [],
   "source": [
    "list_naive=np.array([])\n",
    "\n",
    "for i in range(1000):\n",
    "    \n",
    "    list_naive=np.append(list_naive,Naive_Method(len(rest),mean,std,num_iter))"
   ]
  },
  {
   "cell_type": "code",
   "execution_count": 9,
   "metadata": {},
   "outputs": [
    {
     "data": {
      "text/plain": [
       "2298.041432573774"
      ]
     },
     "execution_count": 9,
     "metadata": {},
     "output_type": "execute_result"
    }
   ],
   "source": [
    "np.average(list_naive)"
   ]
  },
  {
   "cell_type": "code",
   "execution_count": 10,
   "metadata": {},
   "outputs": [
    {
     "data": {
      "text/plain": [
       "2553.8600165896305"
      ]
     },
     "execution_count": 10,
     "metadata": {},
     "output_type": "execute_result"
    }
   ],
   "source": [
    "np.max(list_naive)"
   ]
  },
  {
   "cell_type": "code",
   "execution_count": 11,
   "metadata": {},
   "outputs": [
    {
     "data": {
      "text/plain": [
       "2084.8768237814224"
      ]
     },
     "execution_count": 11,
     "metadata": {},
     "output_type": "execute_result"
    }
   ],
   "source": [
    "np.min(list_naive)"
   ]
  },
  {
   "cell_type": "markdown",
   "metadata": {},
   "source": [
    "## Exploit only"
   ]
  },
  {
   "cell_type": "code",
   "execution_count": 12,
   "metadata": {},
   "outputs": [],
   "source": [
    "def Exploit_Only_Method(items,mu,sigma,chances):\n",
    "    explor=0.0\n",
    "    selected=0.0\n",
    "    total_exploit=0.0\n",
    "    #exploration\n",
    "    for i in range(items):\n",
    "        tmp_exploit=np.random.normal(mu[i],sigma[i])\n",
    "        total_exploit+=tmp_exploit\n",
    "        if explor<tmp_exploit:\n",
    "            explor=tmp_exploit\n",
    "            selected=i\n",
    "    #exploit        \n",
    "    for i in range(chances-items):\n",
    "            total_exploit+=np.random.normal(mu[selected],sigma[selected])\n",
    "    \n",
    "    return(total_exploit)"
   ]
  },
  {
   "cell_type": "code",
   "execution_count": 13,
   "metadata": {},
   "outputs": [],
   "source": [
    "list_exploit=np.array([])\n",
    "\n",
    "for i in range(1000):\n",
    "    \n",
    "    list_exploit=np.append(list_exploit,Exploit_Only_Method(len(rest),mean,std,num_iter))"
   ]
  },
  {
   "cell_type": "code",
   "execution_count": 14,
   "metadata": {},
   "outputs": [
    {
     "data": {
      "text/plain": [
       "2733.675493207896"
      ]
     },
     "execution_count": 14,
     "metadata": {},
     "output_type": "execute_result"
    }
   ],
   "source": [
    "np.average(list_exploit)"
   ]
  },
  {
   "cell_type": "code",
   "execution_count": 15,
   "metadata": {},
   "outputs": [
    {
     "data": {
      "text/plain": [
       "3105.0377915537165"
      ]
     },
     "execution_count": 15,
     "metadata": {},
     "output_type": "execute_result"
    }
   ],
   "source": [
    "np.max(list_exploit)"
   ]
  },
  {
   "cell_type": "code",
   "execution_count": 16,
   "metadata": {},
   "outputs": [
    {
     "data": {
      "text/plain": [
       "1445.0556792475322"
      ]
     },
     "execution_count": 16,
     "metadata": {},
     "output_type": "execute_result"
    }
   ],
   "source": [
    "np.min(list_exploit)"
   ]
  },
  {
   "cell_type": "markdown",
   "metadata": {},
   "source": [
    "## 1-epsilon Exploit"
   ]
  },
  {
   "cell_type": "code",
   "execution_count": 187,
   "metadata": {},
   "outputs": [],
   "source": [
    "def one_eps_exploit(items,mu,sigma,eps,chances):\n",
    "    explor=0.0\n",
    "    selected=0\n",
    "    total_exploit=0.0\n",
    "    tmp_all_exploit=[[] for j in range(items)]\n",
    "    tmp_best_mean=0.0\n",
    "    \n",
    "    #exploration\n",
    "    for i in range(int(eps*chances)):\n",
    "        tmp_count=np.random.randint(0,items,size=1)[0]\n",
    "        tmp_exploit=np.random.normal(mu[tmp_count],sigma[tmp_count])\n",
    "        tmp_all_exploit[tmp_count].append(tmp_exploit)\n",
    "        total_exploit+=tmp_exploit\n",
    "    \n",
    "    \n",
    "    for i in range(items):\n",
    "        explor=np.mean(tmp_all_exploit[i])\n",
    "        if explor>tmp_best_mean:\n",
    "            tmp_best_mean=explor\n",
    "            selected=i\n",
    "            \n",
    "\n",
    "    #exploit        \n",
    "    for i in range(chances-int(eps*chances)):\n",
    "            total_exploit+=np.random.normal(mu[selected],sigma[selected])\n",
    "    return(total_exploit)       "
   ]
  },
  {
   "cell_type": "code",
   "execution_count": 188,
   "metadata": {},
   "outputs": [],
   "source": [
    "list_one_eps_exploit=np.array([])\n",
    "for i in range(1000):\n",
    "    list_one_eps_exploit=np.append(list_one_eps_exploit,one_eps_exploit(len(rest),mean,std,0.1,num_iter))"
   ]
  },
  {
   "cell_type": "code",
   "execution_count": 58,
   "metadata": {},
   "outputs": [],
   "source": [
    "list_one_eps_exploit=np.append(list_one_eps_exploit,one_eps_exploit(len(rest),mean,std,0.1,num_iter))"
   ]
  },
  {
   "cell_type": "code",
   "execution_count": 189,
   "metadata": {},
   "outputs": [
    {
     "data": {
      "text/plain": [
       "2879.273247761452"
      ]
     },
     "execution_count": 189,
     "metadata": {},
     "output_type": "execute_result"
    }
   ],
   "source": [
    "np.average(list_one_eps_exploit)"
   ]
  },
  {
   "cell_type": "code",
   "execution_count": 190,
   "metadata": {},
   "outputs": [
    {
     "data": {
      "text/plain": [
       "3081.1275418255814"
      ]
     },
     "execution_count": 190,
     "metadata": {},
     "output_type": "execute_result"
    }
   ],
   "source": [
    "np.max(list_one_eps_exploit)"
   ]
  },
  {
   "cell_type": "code",
   "execution_count": 191,
   "metadata": {},
   "outputs": [
    {
     "data": {
      "text/plain": [
       "2249.2456080746942"
      ]
     },
     "execution_count": 191,
     "metadata": {},
     "output_type": "execute_result"
    }
   ],
   "source": [
    "np.min(list_one_eps_exploit)"
   ]
  },
  {
   "cell_type": "code",
   "execution_count": null,
   "metadata": {},
   "outputs": [],
   "source": []
  },
  {
   "cell_type": "markdown",
   "metadata": {},
   "source": [
    "## UCB 1"
   ]
  },
  {
   "cell_type": "code",
   "execution_count": 212,
   "metadata": {},
   "outputs": [],
   "source": [
    "def UCB1(items,mu,sigma,chances):\n",
    "    items=int(items)\n",
    "    explor=0.0\n",
    "    selected=0\n",
    "    total_exploit=0.0\n",
    "    tmp_all_exploit=[[] for j in range(items)]\n",
    "    tmp_all_mean=np.zeros(items)\n",
    "    tmp_all_atmpt_counts=np.zeros(items)\n",
    "    \n",
    "    \n",
    "    #1st set of exploration\n",
    "    ex_lim=1*int(items)\n",
    "    for i in range(ex_lim):\n",
    "        tmp_count=i%items\n",
    "        tmp_exploit=np.random.normal(mu[tmp_count],sigma[tmp_count])\n",
    "        tmp_all_exploit[tmp_count].append(tmp_exploit)\n",
    "        tmp_all_mean[tmp_count]=np.mean(tmp_all_exploit[tmp_count])\n",
    "        tmp_all_atmpt_counts[tmp_count]=len(tmp_all_exploit[tmp_count])\n",
    "        total_exploit+=tmp_exploit\n",
    "    \n",
    "     \n",
    "\n",
    "    #exploit        \n",
    "    for i in range(chances-ex_lim):\n",
    "        tmp_best_mean=0.0\n",
    "        for j in range(items):\n",
    "            explor=tmp_all_mean[j] + np.sqrt((2*np.log(ex_lim+i))/tmp_all_atmpt_counts[j])\n",
    "            if explor>tmp_best_mean:\n",
    "                tmp_best_mean=explor\n",
    "                selected=j\n",
    "        \n",
    "        total_exploit+=np.random.normal(mu[selected],sigma[selected])\n",
    "    return(total_exploit)\n"
   ]
  },
  {
   "cell_type": "code",
   "execution_count": 213,
   "metadata": {},
   "outputs": [],
   "source": [
    "list_UCB1=np.array([])\n",
    "for i in range(1000):\n",
    "    list_UCB1=np.append(list_UCB1,UCB1(len(rest),mean,std,300))"
   ]
  },
  {
   "cell_type": "code",
   "execution_count": 214,
   "metadata": {},
   "outputs": [
    {
     "data": {
      "text/plain": [
       "2732.677400312021"
      ]
     },
     "execution_count": 214,
     "metadata": {},
     "output_type": "execute_result"
    }
   ],
   "source": [
    "np.average(list_UCB1)"
   ]
  },
  {
   "cell_type": "code",
   "execution_count": 215,
   "metadata": {},
   "outputs": [
    {
     "data": {
      "text/plain": [
       "3105.303777778429"
      ]
     },
     "execution_count": 215,
     "metadata": {},
     "output_type": "execute_result"
    }
   ],
   "source": [
    "np.max(list_UCB1)"
   ]
  },
  {
   "cell_type": "code",
   "execution_count": 216,
   "metadata": {},
   "outputs": [
    {
     "data": {
      "text/plain": [
       "1404.0153770557552"
      ]
     },
     "execution_count": 216,
     "metadata": {},
     "output_type": "execute_result"
    }
   ],
   "source": [
    "np.min(list_UCB1)"
   ]
  },
  {
   "cell_type": "markdown",
   "metadata": {},
   "source": [
    "## New algo based on mean and variance"
   ]
  },
  {
   "cell_type": "code",
   "execution_count": 27,
   "metadata": {},
   "outputs": [
    {
     "data": {
      "text/plain": [
       "0.0"
      ]
     },
     "execution_count": 27,
     "metadata": {},
     "output_type": "execute_result"
    }
   ],
   "source": [
    "np.std([1])"
   ]
  },
  {
   "cell_type": "code",
   "execution_count": 195,
   "metadata": {},
   "outputs": [],
   "source": [
    "def New_algo(items,mu,sigma,eps,chances):\n",
    "    items=int(items)\n",
    "    explor=0.0\n",
    "    selected=0\n",
    "    selected_up=0\n",
    "    selected_down=0\n",
    "    total_exploit=0.0\n",
    "    tmp_all_exploit=[[] for j in range(items)]\n",
    "    tmp_all_mean=np.zeros(items)\n",
    "    tmp_all_atmpt_std=np.zeros(items)\n",
    "    tmp_all_upp_lim=np.zeros(items)\n",
    "    tmp_all_low_lim=np.zeros(items)\n",
    "    \n",
    "    \n",
    "    #2 set of exploration\n",
    "    ex_lim=int(eps*chances)\n",
    "    for i in range(ex_lim):\n",
    "        tmp_count=np.random.randint(0,items,size=1)[0]\n",
    "        tmp_exploit=np.random.normal(mu[tmp_count],sigma[tmp_count])\n",
    "        tmp_all_exploit[tmp_count].append(tmp_exploit)\n",
    "        tmp_all_mean[tmp_count]=np.mean(tmp_all_exploit[tmp_count])\n",
    "        tmp_all_atmpt_std[tmp_count]=np.std(tmp_all_exploit[tmp_count])\n",
    "        tmp_all_upp_lim[tmp_count]=tmp_all_mean[tmp_count]+1*tmp_all_atmpt_std[tmp_count]\n",
    "        tmp_all_low_lim[tmp_count]=tmp_all_mean[tmp_count]-1*tmp_all_atmpt_std[tmp_count]\n",
    "        total_exploit+=tmp_exploit\n",
    "    \n",
    "     \n",
    "\n",
    "    #exploit        \n",
    "    for i in range(chances-ex_lim):\n",
    "        tmp_best_low=0.0\n",
    "        tmp_best_up=0.0\n",
    "        for j in range(items):\n",
    "            if tmp_all_upp_lim[j]>tmp_best_up:\n",
    "                tmp_best_up=tmp_all_upp_lim[j]\n",
    "                selected_up=j\n",
    "            if tmp_all_low_lim[j]>tmp_best_low:\n",
    "                tmp_best_low=tmp_all_low_lim[j]\n",
    "                selected_up=j\n",
    "        \n",
    "        if tmp_best_up>tmp_best_low:\n",
    "            selected=selected_up\n",
    "        else:\n",
    "            selected=selected_down\n",
    "            \n",
    "        \n",
    "        inst_exploit=np.random.normal(mu[selected],sigma[selected])\n",
    "        tmp_all_exploit[selected].append(inst_exploit)\n",
    "        tmp_all_mean[selected]=np.mean(tmp_all_exploit[selected])\n",
    "        tmp_all_atmpt_std[selected]=np.std(tmp_all_exploit[selected])\n",
    "        tmp_all_upp_lim[selected]=tmp_all_mean[selected]+1*tmp_all_atmpt_std[selected]\n",
    "        tmp_all_low_lim[selected]=tmp_all_mean[selected]-1*tmp_all_atmpt_std[selected]\n",
    "        total_exploit+=inst_exploit\n",
    "        \n",
    "        \n",
    "    return(total_exploit)\n"
   ]
  },
  {
   "cell_type": "code",
   "execution_count": 207,
   "metadata": {},
   "outputs": [
    {
     "data": {
      "text/plain": [
       "2850.116851202286"
      ]
     },
     "execution_count": 207,
     "metadata": {},
     "output_type": "execute_result"
    }
   ],
   "source": [
    "New_algo(len(rest),mean,std,0.2,num_iter)"
   ]
  },
  {
   "cell_type": "code",
   "execution_count": 208,
   "metadata": {},
   "outputs": [],
   "source": [
    "list_new_algo=np.array([])\n",
    "for i in range(1000):\n",
    "    list_new_algo=np.append(list_new_algo,New_algo(len(rest),mean,std,0.1,num_iter))"
   ]
  },
  {
   "cell_type": "code",
   "execution_count": 209,
   "metadata": {},
   "outputs": [
    {
     "data": {
      "text/plain": [
       "2818.5974829454995"
      ]
     },
     "execution_count": 209,
     "metadata": {},
     "output_type": "execute_result"
    }
   ],
   "source": [
    "np.average(list_new_algo)"
   ]
  },
  {
   "cell_type": "code",
   "execution_count": 210,
   "metadata": {},
   "outputs": [
    {
     "data": {
      "text/plain": [
       "3101.4981323798884"
      ]
     },
     "execution_count": 210,
     "metadata": {},
     "output_type": "execute_result"
    }
   ],
   "source": [
    "np.max(list_new_algo)"
   ]
  },
  {
   "cell_type": "code",
   "execution_count": 211,
   "metadata": {},
   "outputs": [
    {
     "data": {
      "text/plain": [
       "2251.1283009706103"
      ]
     },
     "execution_count": 211,
     "metadata": {},
     "output_type": "execute_result"
    }
   ],
   "source": [
    "np.min(list_new_algo)"
   ]
  },
  {
   "cell_type": "markdown",
   "metadata": {},
   "source": [
    "## An Instance generator for the problem based on the video"
   ]
  },
  {
   "cell_type": "code",
   "execution_count": 101,
   "metadata": {},
   "outputs": [],
   "source": [
    "def Instancetest(inp_items,inp_std):\n",
    "    inst_mean=np.zeros(inp_items)\n",
    "    inst_std=np.zeros(inp_items)\n",
    "    for i in range(inp_items):\n",
    "        \n",
    "        inst_mean[i]=3*(i+1)\n",
    "        inst_std[i]=(3*(i+1))*inp_std\n",
    "        \n",
    "    return(inst_mean,inst_std)"
   ]
  },
  {
   "cell_type": "code",
   "execution_count": 102,
   "metadata": {},
   "outputs": [],
   "source": [
    "[a,b]=Instancetest(10,0.1)"
   ]
  },
  {
   "cell_type": "markdown",
   "metadata": {},
   "source": [
    "## Check of all the types"
   ]
  },
  {
   "cell_type": "code",
   "execution_count": 220,
   "metadata": {},
   "outputs": [
    {
     "name": "stderr",
     "output_type": "stream",
     "text": [
      "C:\\ProgramData\\Anaconda3\\lib\\site-packages\\numpy\\core\\fromnumeric.py:3372: RuntimeWarning: Mean of empty slice.\n",
      "  return _methods._mean(a, axis=axis, dtype=dtype,\n",
      "C:\\ProgramData\\Anaconda3\\lib\\site-packages\\numpy\\core\\_methods.py:170: RuntimeWarning: invalid value encountered in double_scalars\n",
      "  ret = ret.dtype.type(ret / rcount)\n"
     ]
    }
   ],
   "source": [
    "no_of_items=[3,10,30,100]\n",
    "std_range=[0.1,0.3,0.5]\n",
    "num_of_days=300\n",
    "\n",
    "list_naive_t=np.array([])\n",
    "list_exploit_t=np.array([])\n",
    "list_one_eps_exploit_t=np.array([])\n",
    "list_UCB1_t=np.array([])\n",
    "list_new_algo_t=np.array([])\n",
    "list_of_std=np.array([])\n",
    "list_no_items=np.array([])\n",
    "list_max_gain=np.array([])\n",
    "for i in range(10):\n",
    "    for j in no_of_items:\n",
    "        for k in std_range:\n",
    "            \n",
    "            [Instance_mean,Instance_std]=Instancetest(j,k)\n",
    "            \n",
    "            list_no_items=np.append(list_no_items,j)\n",
    "            list_of_std=np.append(list_of_std,k)\n",
    "            temp_regret=np.max(Instance_mean)*num_of_days\n",
    "            list_max_gain=np.append(list_max_gain,temp_regret)\n",
    "            list_naive_t=np.append(list_naive_t,Naive_Method(j,Instance_mean,Instance_std,num_of_days)/temp_regret)\n",
    "            list_exploit_t=np.append(list_exploit_t,Exploit_Only_Method(j,Instance_mean,Instance_std,num_of_days)/temp_regret)\n",
    "            list_one_eps_exploit_t=np.append(list_one_eps_exploit_t,one_eps_exploit(j,Instance_mean,Instance_std,0.2,num_of_days)/temp_regret)\n",
    "            list_UCB1_t=np.append(list_UCB1_t,UCB1(j,Instance_mean,Instance_std,num_of_days)/temp_regret)\n",
    "            list_new_algo_t=np.append(list_new_algo_t,New_algo(j,Instance_mean,Instance_std,0.1,num_of_days)/temp_regret)\n",
    "\n",
    "\n",
    "final_data=pd.DataFrame(columns=['No_of_items','std','Minimum_regret','Naive_algo','Max_Exploit','one-eps','UCB1','New_algo'])\n",
    "final_data['No_of_items']=list_no_items\n",
    "final_data['std']=list_of_std\n",
    "final_data['Minimum_regret']=list_max_gain\n",
    "final_data['Naive_algo']=list_naive_t\n",
    "final_data['Max_Exploit']=list_exploit_t\n",
    "final_data['one-eps']=list_one_eps_exploit_t\n",
    "final_data['UCB1']=list_UCB1_t\n",
    "final_data['New_algo']=list_new_algo_t\n",
    "\n"
   ]
  },
  {
   "cell_type": "code",
   "execution_count": 221,
   "metadata": {},
   "outputs": [
    {
     "data": {
      "text/html": [
       "<div>\n",
       "<style scoped>\n",
       "    .dataframe tbody tr th:only-of-type {\n",
       "        vertical-align: middle;\n",
       "    }\n",
       "\n",
       "    .dataframe tbody tr th {\n",
       "        vertical-align: top;\n",
       "    }\n",
       "\n",
       "    .dataframe thead th {\n",
       "        text-align: right;\n",
       "    }\n",
       "</style>\n",
       "<table border=\"1\" class=\"dataframe\">\n",
       "  <thead>\n",
       "    <tr style=\"text-align: right;\">\n",
       "      <th></th>\n",
       "      <th>No_of_items</th>\n",
       "      <th>std</th>\n",
       "      <th>Minimum_regret</th>\n",
       "      <th>Naive_algo</th>\n",
       "      <th>Max_Exploit</th>\n",
       "      <th>one-eps</th>\n",
       "      <th>UCB1</th>\n",
       "      <th>New_algo</th>\n",
       "    </tr>\n",
       "  </thead>\n",
       "  <tbody>\n",
       "    <tr>\n",
       "      <th>0</th>\n",
       "      <td>3.0</td>\n",
       "      <td>0.1</td>\n",
       "      <td>2700.0</td>\n",
       "      <td>0.668657</td>\n",
       "      <td>0.983768</td>\n",
       "      <td>0.939333</td>\n",
       "      <td>0.998252</td>\n",
       "      <td>0.963217</td>\n",
       "    </tr>\n",
       "    <tr>\n",
       "      <th>1</th>\n",
       "      <td>3.0</td>\n",
       "      <td>0.3</td>\n",
       "      <td>2700.0</td>\n",
       "      <td>0.687260</td>\n",
       "      <td>1.016423</td>\n",
       "      <td>0.933581</td>\n",
       "      <td>0.664438</td>\n",
       "      <td>0.985178</td>\n",
       "    </tr>\n",
       "    <tr>\n",
       "      <th>2</th>\n",
       "      <td>3.0</td>\n",
       "      <td>0.5</td>\n",
       "      <td>2700.0</td>\n",
       "      <td>0.655128</td>\n",
       "      <td>1.084041</td>\n",
       "      <td>0.939258</td>\n",
       "      <td>0.629019</td>\n",
       "      <td>1.000811</td>\n",
       "    </tr>\n",
       "    <tr>\n",
       "      <th>3</th>\n",
       "      <td>10.0</td>\n",
       "      <td>0.1</td>\n",
       "      <td>9000.0</td>\n",
       "      <td>0.556410</td>\n",
       "      <td>0.985598</td>\n",
       "      <td>0.912526</td>\n",
       "      <td>0.991640</td>\n",
       "      <td>0.949764</td>\n",
       "    </tr>\n",
       "    <tr>\n",
       "      <th>4</th>\n",
       "      <td>10.0</td>\n",
       "      <td>0.3</td>\n",
       "      <td>9000.0</td>\n",
       "      <td>0.584410</td>\n",
       "      <td>0.603216</td>\n",
       "      <td>0.910733</td>\n",
       "      <td>0.996887</td>\n",
       "      <td>0.941938</td>\n",
       "    </tr>\n",
       "    <tr>\n",
       "      <th>...</th>\n",
       "      <td>...</td>\n",
       "      <td>...</td>\n",
       "      <td>...</td>\n",
       "      <td>...</td>\n",
       "      <td>...</td>\n",
       "      <td>...</td>\n",
       "      <td>...</td>\n",
       "      <td>...</td>\n",
       "    </tr>\n",
       "    <tr>\n",
       "      <th>115</th>\n",
       "      <td>30.0</td>\n",
       "      <td>0.3</td>\n",
       "      <td>27000.0</td>\n",
       "      <td>0.517162</td>\n",
       "      <td>0.774175</td>\n",
       "      <td>0.716208</td>\n",
       "      <td>0.941770</td>\n",
       "      <td>0.078380</td>\n",
       "    </tr>\n",
       "    <tr>\n",
       "      <th>116</th>\n",
       "      <td>30.0</td>\n",
       "      <td>0.5</td>\n",
       "      <td>27000.0</td>\n",
       "      <td>0.504530</td>\n",
       "      <td>0.921659</td>\n",
       "      <td>0.860759</td>\n",
       "      <td>0.957454</td>\n",
       "      <td>0.074899</td>\n",
       "    </tr>\n",
       "    <tr>\n",
       "      <th>117</th>\n",
       "      <td>100.0</td>\n",
       "      <td>0.1</td>\n",
       "      <td>90000.0</td>\n",
       "      <td>0.540687</td>\n",
       "      <td>0.840931</td>\n",
       "      <td>0.852549</td>\n",
       "      <td>0.827167</td>\n",
       "      <td>0.048069</td>\n",
       "    </tr>\n",
       "    <tr>\n",
       "      <th>118</th>\n",
       "      <td>100.0</td>\n",
       "      <td>0.3</td>\n",
       "      <td>90000.0</td>\n",
       "      <td>0.499015</td>\n",
       "      <td>0.852367</td>\n",
       "      <td>0.882006</td>\n",
       "      <td>0.814984</td>\n",
       "      <td>0.054483</td>\n",
       "    </tr>\n",
       "    <tr>\n",
       "      <th>119</th>\n",
       "      <td>100.0</td>\n",
       "      <td>0.5</td>\n",
       "      <td>90000.0</td>\n",
       "      <td>0.480887</td>\n",
       "      <td>0.704101</td>\n",
       "      <td>0.741067</td>\n",
       "      <td>0.745273</td>\n",
       "      <td>0.054345</td>\n",
       "    </tr>\n",
       "  </tbody>\n",
       "</table>\n",
       "<p>120 rows × 8 columns</p>\n",
       "</div>"
      ],
      "text/plain": [
       "     No_of_items  std  Minimum_regret  Naive_algo  Max_Exploit   one-eps  \\\n",
       "0            3.0  0.1          2700.0    0.668657     0.983768  0.939333   \n",
       "1            3.0  0.3          2700.0    0.687260     1.016423  0.933581   \n",
       "2            3.0  0.5          2700.0    0.655128     1.084041  0.939258   \n",
       "3           10.0  0.1          9000.0    0.556410     0.985598  0.912526   \n",
       "4           10.0  0.3          9000.0    0.584410     0.603216  0.910733   \n",
       "..           ...  ...             ...         ...          ...       ...   \n",
       "115         30.0  0.3         27000.0    0.517162     0.774175  0.716208   \n",
       "116         30.0  0.5         27000.0    0.504530     0.921659  0.860759   \n",
       "117        100.0  0.1         90000.0    0.540687     0.840931  0.852549   \n",
       "118        100.0  0.3         90000.0    0.499015     0.852367  0.882006   \n",
       "119        100.0  0.5         90000.0    0.480887     0.704101  0.741067   \n",
       "\n",
       "         UCB1  New_algo  \n",
       "0    0.998252  0.963217  \n",
       "1    0.664438  0.985178  \n",
       "2    0.629019  1.000811  \n",
       "3    0.991640  0.949764  \n",
       "4    0.996887  0.941938  \n",
       "..        ...       ...  \n",
       "115  0.941770  0.078380  \n",
       "116  0.957454  0.074899  \n",
       "117  0.827167  0.048069  \n",
       "118  0.814984  0.054483  \n",
       "119  0.745273  0.054345  \n",
       "\n",
       "[120 rows x 8 columns]"
      ]
     },
     "execution_count": 221,
     "metadata": {},
     "output_type": "execute_result"
    }
   ],
   "source": [
    "final_data"
   ]
  },
  {
   "cell_type": "code",
   "execution_count": 222,
   "metadata": {},
   "outputs": [
    {
     "data": {
      "text/html": [
       "<div>\n",
       "<style scoped>\n",
       "    .dataframe tbody tr th:only-of-type {\n",
       "        vertical-align: middle;\n",
       "    }\n",
       "\n",
       "    .dataframe tbody tr th {\n",
       "        vertical-align: top;\n",
       "    }\n",
       "\n",
       "    .dataframe thead th {\n",
       "        text-align: right;\n",
       "    }\n",
       "</style>\n",
       "<table border=\"1\" class=\"dataframe\">\n",
       "  <thead>\n",
       "    <tr style=\"text-align: right;\">\n",
       "      <th></th>\n",
       "      <th></th>\n",
       "      <th>Minimum_regret</th>\n",
       "      <th>Naive_algo</th>\n",
       "      <th>Max_Exploit</th>\n",
       "      <th>one-eps</th>\n",
       "      <th>UCB1</th>\n",
       "      <th>New_algo</th>\n",
       "    </tr>\n",
       "    <tr>\n",
       "      <th>No_of_items</th>\n",
       "      <th>std</th>\n",
       "      <th></th>\n",
       "      <th></th>\n",
       "      <th></th>\n",
       "      <th></th>\n",
       "      <th></th>\n",
       "      <th></th>\n",
       "    </tr>\n",
       "  </thead>\n",
       "  <tbody>\n",
       "    <tr>\n",
       "      <th rowspan=\"3\" valign=\"top\">3.0</th>\n",
       "      <th>0.1</th>\n",
       "      <td>2700.0</td>\n",
       "      <td>0.659896</td>\n",
       "      <td>0.995410</td>\n",
       "      <td>0.932578</td>\n",
       "      <td>0.997325</td>\n",
       "      <td>0.969449</td>\n",
       "    </tr>\n",
       "    <tr>\n",
       "      <th>0.3</th>\n",
       "      <td>2700.0</td>\n",
       "      <td>0.656684</td>\n",
       "      <td>0.926971</td>\n",
       "      <td>0.934558</td>\n",
       "      <td>0.868435</td>\n",
       "      <td>0.962960</td>\n",
       "    </tr>\n",
       "    <tr>\n",
       "      <th>0.5</th>\n",
       "      <td>2700.0</td>\n",
       "      <td>0.657745</td>\n",
       "      <td>0.911294</td>\n",
       "      <td>0.942689</td>\n",
       "      <td>0.904590</td>\n",
       "      <td>0.976104</td>\n",
       "    </tr>\n",
       "    <tr>\n",
       "      <th rowspan=\"3\" valign=\"top\">10.0</th>\n",
       "      <th>0.1</th>\n",
       "      <td>9000.0</td>\n",
       "      <td>0.555287</td>\n",
       "      <td>0.967126</td>\n",
       "      <td>0.884150</td>\n",
       "      <td>0.934114</td>\n",
       "      <td>0.869762</td>\n",
       "    </tr>\n",
       "    <tr>\n",
       "      <th>0.3</th>\n",
       "      <td>9000.0</td>\n",
       "      <td>0.552010</td>\n",
       "      <td>0.853236</td>\n",
       "      <td>0.898529</td>\n",
       "      <td>0.931131</td>\n",
       "      <td>0.682808</td>\n",
       "    </tr>\n",
       "    <tr>\n",
       "      <th>0.5</th>\n",
       "      <td>9000.0</td>\n",
       "      <td>0.550937</td>\n",
       "      <td>0.873820</td>\n",
       "      <td>0.824727</td>\n",
       "      <td>0.865249</td>\n",
       "      <td>0.851219</td>\n",
       "    </tr>\n",
       "    <tr>\n",
       "      <th rowspan=\"3\" valign=\"top\">30.0</th>\n",
       "      <th>0.1</th>\n",
       "      <td>27000.0</td>\n",
       "      <td>0.515168</td>\n",
       "      <td>0.916823</td>\n",
       "      <td>0.863119</td>\n",
       "      <td>0.906367</td>\n",
       "      <td>0.338959</td>\n",
       "    </tr>\n",
       "    <tr>\n",
       "      <th>0.3</th>\n",
       "      <td>27000.0</td>\n",
       "      <td>0.520988</td>\n",
       "      <td>0.876224</td>\n",
       "      <td>0.826722</td>\n",
       "      <td>0.901418</td>\n",
       "      <td>0.476336</td>\n",
       "    </tr>\n",
       "    <tr>\n",
       "      <th>0.5</th>\n",
       "      <td>27000.0</td>\n",
       "      <td>0.513457</td>\n",
       "      <td>0.820392</td>\n",
       "      <td>0.826986</td>\n",
       "      <td>0.900178</td>\n",
       "      <td>0.246889</td>\n",
       "    </tr>\n",
       "    <tr>\n",
       "      <th rowspan=\"3\" valign=\"top\">100.0</th>\n",
       "      <th>0.1</th>\n",
       "      <td>90000.0</td>\n",
       "      <td>0.507655</td>\n",
       "      <td>0.813739</td>\n",
       "      <td>0.861869</td>\n",
       "      <td>0.819020</td>\n",
       "      <td>0.063141</td>\n",
       "    </tr>\n",
       "    <tr>\n",
       "      <th>0.3</th>\n",
       "      <td>90000.0</td>\n",
       "      <td>0.500463</td>\n",
       "      <td>0.801671</td>\n",
       "      <td>0.825664</td>\n",
       "      <td>0.797837</td>\n",
       "      <td>0.059602</td>\n",
       "    </tr>\n",
       "    <tr>\n",
       "      <th>0.5</th>\n",
       "      <td>90000.0</td>\n",
       "      <td>0.504789</td>\n",
       "      <td>0.787642</td>\n",
       "      <td>0.817689</td>\n",
       "      <td>0.756161</td>\n",
       "      <td>0.222081</td>\n",
       "    </tr>\n",
       "  </tbody>\n",
       "</table>\n",
       "</div>"
      ],
      "text/plain": [
       "                 Minimum_regret  Naive_algo  Max_Exploit   one-eps      UCB1  \\\n",
       "No_of_items std                                                                \n",
       "3.0         0.1          2700.0    0.659896     0.995410  0.932578  0.997325   \n",
       "            0.3          2700.0    0.656684     0.926971  0.934558  0.868435   \n",
       "            0.5          2700.0    0.657745     0.911294  0.942689  0.904590   \n",
       "10.0        0.1          9000.0    0.555287     0.967126  0.884150  0.934114   \n",
       "            0.3          9000.0    0.552010     0.853236  0.898529  0.931131   \n",
       "            0.5          9000.0    0.550937     0.873820  0.824727  0.865249   \n",
       "30.0        0.1         27000.0    0.515168     0.916823  0.863119  0.906367   \n",
       "            0.3         27000.0    0.520988     0.876224  0.826722  0.901418   \n",
       "            0.5         27000.0    0.513457     0.820392  0.826986  0.900178   \n",
       "100.0       0.1         90000.0    0.507655     0.813739  0.861869  0.819020   \n",
       "            0.3         90000.0    0.500463     0.801671  0.825664  0.797837   \n",
       "            0.5         90000.0    0.504789     0.787642  0.817689  0.756161   \n",
       "\n",
       "                 New_algo  \n",
       "No_of_items std            \n",
       "3.0         0.1  0.969449  \n",
       "            0.3  0.962960  \n",
       "            0.5  0.976104  \n",
       "10.0        0.1  0.869762  \n",
       "            0.3  0.682808  \n",
       "            0.5  0.851219  \n",
       "30.0        0.1  0.338959  \n",
       "            0.3  0.476336  \n",
       "            0.5  0.246889  \n",
       "100.0       0.1  0.063141  \n",
       "            0.3  0.059602  \n",
       "            0.5  0.222081  "
      ]
     },
     "execution_count": 222,
     "metadata": {},
     "output_type": "execute_result"
    }
   ],
   "source": [
    "final_data.groupby(by=['No_of_items','std']).mean()"
   ]
  },
  {
   "cell_type": "code",
   "execution_count": null,
   "metadata": {},
   "outputs": [],
   "source": []
  }
 ],
 "metadata": {
  "kernelspec": {
   "display_name": "Python 3",
   "language": "python",
   "name": "python3"
  },
  "language_info": {
   "codemirror_mode": {
    "name": "ipython",
    "version": 3
   },
   "file_extension": ".py",
   "mimetype": "text/x-python",
   "name": "python",
   "nbconvert_exporter": "python",
   "pygments_lexer": "ipython3",
   "version": "3.8.5"
  }
 },
 "nbformat": 4,
 "nbformat_minor": 4
}
