{
 "cells": [
  {
   "cell_type": "code",
   "execution_count": 1,
   "metadata": {},
   "outputs": [],
   "source": [
    "import numpy as np"
   ]
  },
  {
   "cell_type": "code",
   "execution_count": 4,
   "metadata": {},
   "outputs": [],
   "source": [
    "def Decimal2Roman(Number):\n",
    "    \n",
    "    Number=str(Number)\n",
    "    Numeral=['I','V','X','L','C','D','M']     #text\n",
    "    Numeral_value=[1,5,10,50,100,500,1000]   #Value\n",
    "    Max_value=[3,8,39,89,399,899]            # these maximum values take care of all the rules for each symbols like the table we make for currency\n",
    "    Answer=''#Answer variable initialise\n",
    "    temp=list(Number)   #split input to digit\n",
    "    k=len(temp)         #length of answer\n",
    "    x=0                 #variable needed for getting significant digits with the value\n",
    "    while x<k:\n",
    "        y=int(temp[x])*(10**(k-x-1))  # seperating the most significant number with value\n",
    "        x=x+1\n",
    "        i=len(Numeral)-1\n",
    "        while y>0:\n",
    "            if y>=Numeral_value[i]:   #if the most significant number is larger than the largest symbol then add it to the answer and subtract it from the value\n",
    "                Answer=Answer+ str(Numeral[i])   # this can be seen as the normal method\n",
    "                y=y-Numeral_value[i]\n",
    "            elif y>Max_value[i-1]:    #if number is smaller than the largest symbol and larger than the largest number possible from smaller symbol then\n",
    "                txt=Numeral_value[i]-y           # this is the reverse method, it subtracts from larger symbol and adds to the answer\n",
    "                for j in range(len(Numeral)):\n",
    "                    if Numeral_value[j]== txt:\n",
    "                        Answer=Answer+str(Numeral[j])\n",
    "                        y=y+Numeral_value[j]    # as the value needed to be expressed in larger symbol is added the next iteration will add the larger symbol\n",
    "            else:\n",
    "                i=i-1\n",
    "    return(Answer)"
   ]
  },
  {
   "cell_type": "code",
   "execution_count": null,
   "metadata": {},
   "outputs": [],
   "source": [
    "Decimal2Roman(543)"
   ]
  },
  {
   "cell_type": "code",
   "execution_count": 25,
   "metadata": {},
   "outputs": [],
   "source": [
    "def Roman2Decimal(R_Number):\n",
    "\n",
    "    R_Number=list(R_Number)\n",
    "    Numeral=['I','V','X','L','C','D','M']     #text\n",
    "    Numeral_value=[1,5,10,50,100,500,1000]   #Value\n",
    "    i=0    # initialise the position of characters\n",
    "    Answer=0 # initialise the answer / integer value\n",
    "    while i < len(R_Number): # going through the characters\n",
    "        if i<len(R_Number)-1: # check for the reverse order pairs till the last ones\n",
    "            if Numeral.index(R_Number[i])<Numeral.index(R_Number[i+1]):  #checking the reverse order in pair\n",
    "                if Numeral.index(R_Number[i])==0 or Numeral.index(R_Number[i])==2 or Numeral.index(R_Number[i])==4: # checking that only 'I' , 'X' and 'C' are used in the pair\n",
    "                    Answer=Answer-Numeral_value[Numeral.index(R_Number[i])] # subtract the number if it is pair \n",
    "                    i=i+1 # skip the number after subracted\n",
    "                else:\n",
    "                    Answer=np.inf # make the value infinite if reverse pair is invalid\n",
    "                    i=i+1 #skip forward\n",
    "\n",
    "        Answer=Answer+Numeral_value[Numeral.index(R_Number[i])] # add normal values\n",
    "        i=i+1    # skip forward on adding the number\n",
    "\n",
    "   \n",
    "    return(Answer)\n"
   ]
  },
  {
   "cell_type": "code",
   "execution_count": 26,
   "metadata": {},
   "outputs": [
    {
     "data": {
      "text/plain": [
       "543"
      ]
     },
     "execution_count": 26,
     "metadata": {},
     "output_type": "execute_result"
    }
   ],
   "source": [
    "Roman2Decimal('DXLIII')"
   ]
  },
  {
   "cell_type": "code",
   "execution_count": null,
   "metadata": {},
   "outputs": [],
   "source": []
  }
 ],
 "metadata": {
  "kernelspec": {
   "display_name": "Python 3",
   "language": "python",
   "name": "python3"
  },
  "language_info": {
   "codemirror_mode": {
    "name": "ipython",
    "version": 3
   },
   "file_extension": ".py",
   "mimetype": "text/x-python",
   "name": "python",
   "nbconvert_exporter": "python",
   "pygments_lexer": "ipython3",
   "version": "3.8.5"
  }
 },
 "nbformat": 4,
 "nbformat_minor": 4
}
